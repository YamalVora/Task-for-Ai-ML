{
 "cells": [
  {
   "cell_type": "code",
   "execution_count": null,
   "id": "af2e8ce7",
   "metadata": {},
   "outputs": [],
   "source": []
  },
  {
   "cell_type": "code",
   "execution_count": null,
   "id": "253b26bf",
   "metadata": {},
   "outputs": [],
   "source": [
    "#Augmented Data (now Adding synthetic data)\n",
    "from sklearn.datasets import  make_regression\n",
    "X_fake, Y_fake =make_regression(n_samples=500, n_features=1, noise=10)  #it created 500 samples in which each sample has 1 feature\n"
   ]
  },
  {
   "cell_type": "code",
   "execution_count": 44,
   "id": "37dcbc4f",
   "metadata": {},
   "outputs": [
    {
     "data": {
      "text/html": [
       "<div>\n",
       "<style scoped>\n",
       "    .dataframe tbody tr th:only-of-type {\n",
       "        vertical-align: middle;\n",
       "    }\n",
       "\n",
       "    .dataframe tbody tr th {\n",
       "        vertical-align: top;\n",
       "    }\n",
       "\n",
       "    .dataframe thead th {\n",
       "        text-align: right;\n",
       "    }\n",
       "</style>\n",
       "<table border=\"1\" class=\"dataframe\">\n",
       "  <thead>\n",
       "    <tr style=\"text-align: right;\">\n",
       "      <th></th>\n",
       "      <th>Open</th>\n",
       "      <th>target</th>\n",
       "    </tr>\n",
       "  </thead>\n",
       "  <tbody>\n",
       "    <tr>\n",
       "      <th>0</th>\n",
       "      <td>0.040119</td>\n",
       "      <td>0.044775</td>\n",
       "    </tr>\n",
       "    <tr>\n",
       "      <th>1</th>\n",
       "      <td>0.040597</td>\n",
       "      <td>0.042029</td>\n",
       "    </tr>\n",
       "    <tr>\n",
       "      <th>2</th>\n",
       "      <td>0.042029</td>\n",
       "      <td>0.042865</td>\n",
       "    </tr>\n",
       "    <tr>\n",
       "      <th>3</th>\n",
       "      <td>0.038447</td>\n",
       "      <td>0.039403</td>\n",
       "    </tr>\n",
       "    <tr>\n",
       "      <th>4</th>\n",
       "      <td>0.038209</td>\n",
       "      <td>0.038447</td>\n",
       "    </tr>\n",
       "  </tbody>\n",
       "</table>\n",
       "</div>"
      ],
      "text/plain": [
       "       Open    target\n",
       "0  0.040119  0.044775\n",
       "1  0.040597  0.042029\n",
       "2  0.042029  0.042865\n",
       "3  0.038447  0.039403\n",
       "4  0.038209  0.038447"
      ]
     },
     "execution_count": 44,
     "metadata": {},
     "output_type": "execute_result"
    }
   ],
   "source": [
    "import pandas as pd \n",
    "myfile=pd.read_csv('Nvidia.csv')\n",
    "X_df= pd.DataFrame(X)\n",
    "Y_df= pd.DataFrame(Y)\n",
    "X_df[\"target\"] = Y_df\n",
    "X_df.head()\n",
    "#successfully made synthetic data. now we can train on this "
   ]
  },
  {
   "cell_type": "code",
   "execution_count": 39,
   "id": "17fe7fa8",
   "metadata": {},
   "outputs": [],
   "source": [
    "df_combined = pd.concat([myfile[['Open', 'High']], myfile], ignore_index=True)\n",
    "# import matplotlib.pyplot as mb\n",
    "# myfile.plot(kind='scatter' , x='Open' , y='High')"
   ]
  },
  {
   "cell_type": "code",
   "execution_count": 48,
   "id": "4de01b04",
   "metadata": {},
   "outputs": [],
   "source": [
    "\n",
    "# # Original model\n",
    "# from sklearn.model_selection import train_test_split\n",
    "# from sklearn.linear_model import LinearRegression\n",
    "# from sklearn.metrics import mean_squared_error, r2_score\n",
    "# X_o = myfile[['Open']]\n",
    "# y_o = myfile['High']\n",
    "# X_train_o, X_test_o, y_train_o, y_test_o = train_test_split(X_o, y_o, test_size=0.2, random_state=2)\n",
    "# model_o = LinearRegression()\n",
    "# model_o.fit(X_train_o, y_train_o)\n",
    "# pred_o = model_o.predict(X_test_o)\n",
    "# X_a = df_combined[['Open']]\n",
    "# y_a = df_combined['High']\n",
    "# # Augmented model\n",
    "# X_train_a, X_test_a, y_train_a, y_test_a = train_test_split(X_a, y_a, test_size=0.2, random_state=2)\n",
    "# model_a = LinearRegression()\n",
    "# model_a.fit(X_train_a, y_train_a)\n",
    "# pred_a = model_a.predict(X_test_a)\n",
    "# print(\"Original MSE:\", mean_squared_error(y_test_o, pred_o))\n",
    "# print(\"Augmented MSE:\", mean_squared_error(y_test_a, pred_a))\n",
    "# print(\"Original R²:\", r2_score(y_test_o, pred_o))\n",
    "# print(\"Augmented R²:\", r2_score(y_test_a, pred_a))"
   ]
  },
  {
   "cell_type": "code",
   "execution_count": 76,
   "id": "1af37170",
   "metadata": {},
   "outputs": [
    {
     "data": {
      "text/plain": [
       "array([20.00811471])"
      ]
     },
     "execution_count": 76,
     "metadata": {},
     "output_type": "execute_result"
    }
   ],
   "source": [
    "# from sklearn.datasets import make_regression\n",
    "# import pandas as pd\n",
    "# import numpy as np\n",
    "# from sklearn.linear_model import LinearRegression\n",
    "# from sklearn.model_selection import train_test_split\n",
    "# from sklearn.metrics import mean_squared_error\n",
    "\n",
    "# #Loading original data\n",
    "\n",
    "# X = myfile[['Open']]\n",
    "# Y = myfile['High']\n",
    "\n",
    "# #generating synthetic data\n",
    "# X_fake, Y_fake = make_regression(n_samples=500, n_features=2, noise=10)\n",
    "# df_fake = pd.DataFrame(X_fake, columns=[['Open']])\n",
    "# df_fake['High'] = Y_fake\n",
    "\n",
    "# #now combining real and synthetic datr\n",
    "# df_augmented = pd.concat([myfile[['Open', 'High']], df_fake], ignore_index=True)\n",
    "\n",
    "# #so now our augmented dataset is made which has both original data and synthetic data\n",
    "# #now we train this augmented data\n",
    "# X_aug = df_augmented[['Open']]\n",
    "# Y_aug = df_augmented['High']\n",
    "\n",
    "# X_train_aug, X_test_aug, Y_train_aug, Y_test_aug = train_test_split(X_aug, Y_aug, test_size=0.2, random_state=2)\n",
    "\n",
    "# lr_aug = LinearRegression()\n",
    "# lr_aug.fit(X_train_aug, Y_train_aug)\n",
    "\n",
    "# # Predict\n",
    "# y_pred_aug = lr_aug.predict(X_test_aug)\n",
    "\n",
    "# # -------------------------------\n",
    "# # STEP 5: Evaluate model\n",
    "# # -------------------------------\n",
    "# mse_aug = mean_squared_error(Y_test_aug, y_pred_aug)\n",
    "# print(\"📊 MSE on Augmented Model:\", mse_aug)\n",
    "\n",
    "# # -------------------------------\n",
    "# # OPTIONAL: Predict a specific row (like before)\n",
    "# # -------------------------------\n",
    "# print(\"Prediction on row 1 of X_test_aug:\")\n",
    "# print(lr_aug.predict(X_test_aug[['Open']].iloc[[1]]))\n",
    "\n",
    "from sklearn.datasets import make_regression\n",
    "import pandas as pd\n",
    "import numpy as np\n",
    "from sklearn.linear_model import LinearRegression\n",
    "from sklearn.model_selection import train_test_split\n",
    "from sklearn.metrics import mean_squared_error\n",
    "\n",
    "\n",
    "#loading original data\n",
    "X = myfile[['Open']]\n",
    "Y = myfile['High']\n",
    "#generating synthetic data\n",
    "X_fake, Y_fake = make_regression(n_samples=500, n_features=1, noise=10)\n",
    "df_fake = pd.DataFrame(X_fake, columns=['Open'])\n",
    "df_fake['High'] = Y_fake\n",
    "\n",
    "#combinging syntheti and original data\n",
    "df_augmented = pd.concat([myfile[['Open', 'High']], df_fake], ignore_index=True)\n",
    "\n",
    "#training the augmented model\n",
    "X_aug = df_augmented[['Open']]\n",
    "Y_aug = df_augmented['High']\n",
    "\n",
    "X_train_aug, X_test_aug, Y_train_aug, Y_test_aug = train_test_split(X_aug, Y_aug, test_size=0.2, random_state=2)\n",
    "\n",
    "lr_aug = LinearRegression()\n",
    "lr_aug.fit(X_train_aug, Y_train_aug)\n",
    "\n",
    "# Predict\n",
    "# y_pred_aug = lr_aug.predict(X_test_aug)\n",
    "\n",
    "lr_aug.predict(X_test_aug[['Open']].iloc[[1]])\n",
    "\n",
    "\n"
   ]
  },
  {
   "cell_type": "code",
   "execution_count": 83,
   "id": "317decb3",
   "metadata": {},
   "outputs": [
    {
     "name": "stdout",
     "output_type": "stream",
     "text": [
      "📊 MSE on Augmented Model: 91.40343393640903\n"
     ]
    }
   ],
   "source": [
    "#finding mean square error \n",
    "mse_aug = mean_squared_error(Y_test_aug, y_pred_aug)\n",
    "print(\"📊 MSE on Augmented Model:\", mse_aug)\n",
    "\n",
    "\n"
   ]
  },
  {
   "cell_type": "code",
   "execution_count": 79,
   "id": "88d13a30",
   "metadata": {},
   "outputs": [
    {
     "data": {
      "text/html": [
       "<div>\n",
       "<style scoped>\n",
       "    .dataframe tbody tr th:only-of-type {\n",
       "        vertical-align: middle;\n",
       "    }\n",
       "\n",
       "    .dataframe tbody tr th {\n",
       "        vertical-align: top;\n",
       "    }\n",
       "\n",
       "    .dataframe thead th {\n",
       "        text-align: right;\n",
       "    }\n",
       "</style>\n",
       "<table border=\"1\" class=\"dataframe\">\n",
       "  <thead>\n",
       "    <tr style=\"text-align: right;\">\n",
       "      <th></th>\n",
       "      <th>Open</th>\n",
       "    </tr>\n",
       "  </thead>\n",
       "  <tbody>\n",
       "    <tr>\n",
       "      <th>6569</th>\n",
       "      <td>117.569188</td>\n",
       "    </tr>\n",
       "    <tr>\n",
       "      <th>6042</th>\n",
       "      <td>19.684870</td>\n",
       "    </tr>\n",
       "    <tr>\n",
       "      <th>5294</th>\n",
       "      <td>6.276607</td>\n",
       "    </tr>\n",
       "    <tr>\n",
       "      <th>5382</th>\n",
       "      <td>9.133032</td>\n",
       "    </tr>\n",
       "    <tr>\n",
       "      <th>2209</th>\n",
       "      <td>0.822320</td>\n",
       "    </tr>\n",
       "    <tr>\n",
       "      <th>...</th>\n",
       "      <td>...</td>\n",
       "    </tr>\n",
       "    <tr>\n",
       "      <th>2326</th>\n",
       "      <td>0.453228</td>\n",
       "    </tr>\n",
       "    <tr>\n",
       "      <th>4141</th>\n",
       "      <td>0.483090</td>\n",
       "    </tr>\n",
       "    <tr>\n",
       "      <th>4584</th>\n",
       "      <td>2.381177</td>\n",
       "    </tr>\n",
       "    <tr>\n",
       "      <th>2287</th>\n",
       "      <td>0.513291</td>\n",
       "    </tr>\n",
       "    <tr>\n",
       "      <th>6089</th>\n",
       "      <td>27.947848</td>\n",
       "    </tr>\n",
       "  </tbody>\n",
       "</table>\n",
       "<p>1428 rows × 1 columns</p>\n",
       "</div>"
      ],
      "text/plain": [
       "            Open\n",
       "6569  117.569188\n",
       "6042   19.684870\n",
       "5294    6.276607\n",
       "5382    9.133032\n",
       "2209    0.822320\n",
       "...          ...\n",
       "2326    0.453228\n",
       "4141    0.483090\n",
       "4584    2.381177\n",
       "2287    0.513291\n",
       "6089   27.947848\n",
       "\n",
       "[1428 rows x 1 columns]"
      ]
     },
     "execution_count": 79,
     "metadata": {},
     "output_type": "execute_result"
    }
   ],
   "source": [
    "X_test_aug"
   ]
  },
  {
   "cell_type": "code",
   "execution_count": 80,
   "id": "47ee5e0c",
   "metadata": {},
   "outputs": [
    {
     "data": {
      "text/plain": [
       "6569    118.269121\n",
       "6042     20.149490\n",
       "5294      6.329132\n",
       "5382      9.157702\n",
       "2209      0.848226\n",
       "           ...    \n",
       "2326      0.473631\n",
       "4141      0.485268\n",
       "4584      2.439134\n",
       "2287      0.527963\n",
       "6089     27.981827\n",
       "Name: High, Length: 1428, dtype: float64"
      ]
     },
     "execution_count": 80,
     "metadata": {},
     "output_type": "execute_result"
    }
   ],
   "source": [
    "Y_test_aug"
   ]
  },
  {
   "cell_type": "code",
   "execution_count": null,
   "id": "f6e27f33",
   "metadata": {},
   "outputs": [
    {
     "data": {
      "text/plain": [
       "array([0.30644327])"
      ]
     },
     "execution_count": 82,
     "metadata": {},
     "output_type": "execute_result"
    }
   ],
   "source": [
    "#oroginal model which was trained in the last task\n",
    "X=myfile[['Open']]\n",
    "Y=myfile['High']\n",
    "from sklearn.model_selection import train_test_split\n",
    "X_train,X_test,Y_train,Y_test = train_test_split(X,Y,test_size=0.2,random_state=2)\n",
    "from sklearn.linear_model import LinearRegression\n",
    "lr=LinearRegression()\n",
    "lr.fit(X_train, Y_train)   #so now our model is trained \n",
    "lr.predict(X_test[['Open']].iloc[[1]])\n"
   ]
  },
  {
   "cell_type": "code",
   "execution_count": null,
   "id": "375ba646",
   "metadata": {},
   "outputs": [],
   "source": [
    "#as we can see there is a huge difference between original trained data and augmented trained data\n",
    "#original : lr.predict(X_test[['Open']].iloc[[1]])                 array([0.30644327])\n",
    "#augmented: lr_aug.predict(X_test_aug[['Open']].iloc[[1]]))        array([20.00811471])\n"
   ]
  }
 ],
 "metadata": {
  "kernelspec": {
   "display_name": "Python 3",
   "language": "python",
   "name": "python3"
  },
  "language_info": {
   "codemirror_mode": {
    "name": "ipython",
    "version": 3
   },
   "file_extension": ".py",
   "mimetype": "text/x-python",
   "name": "python",
   "nbconvert_exporter": "python",
   "pygments_lexer": "ipython3",
   "version": "3.13.3"
  }
 },
 "nbformat": 4,
 "nbformat_minor": 5
}
